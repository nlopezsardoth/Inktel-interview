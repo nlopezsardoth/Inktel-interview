{
 "cells": [
  {
   "cell_type": "code",
   "execution_count": 1,
   "metadata": {},
   "outputs": [],
   "source": [
    "import requests\n",
    "import time \n",
    "\n",
    "authKey = \"e0bbaa859b5c43d3887e6cdbabbc2f74\""
   ]
  },
  {
   "cell_type": "code",
   "execution_count": 2,
   "metadata": {},
   "outputs": [],
   "source": [
    "headers = {\n",
    "    \"authorization\": authKey,\n",
    "    \"content-type\": \"application/json\"\n",
    "}\n",
    "\n",
    "uploadURL     = \"https://api.assemblyai.com/v2/upload\"\n",
    "transcriptURL = \"https://api.assemblyai.com/v2/transcript\""
   ]
  },
  {
   "cell_type": "code",
   "execution_count": 3,
   "metadata": {},
   "outputs": [],
   "source": [
    "def uploadMyFile(filename):\n",
    "    \n",
    "    def _readMyFile(fn):\n",
    "        \n",
    "        chunk_size = 5242880\n",
    "        \n",
    "        with open(fn, \"rb\") as fileStream:\n",
    "            \n",
    "            while True:\n",
    "                data = fileStream.read(chunk_size)\n",
    "                if not data:\n",
    "                    break\n",
    "                yield data\n",
    "        pass\n",
    "    \n",
    "    response = requests.post(\n",
    "        uploadURL,\n",
    "        headers = headers,\n",
    "        data = _readMyFile(filename)\n",
    "    )\n",
    "    \n",
    "    json = response.json()\n",
    "    \n",
    "    return json[\"upload_url\"]\n",
    "\n"
   ]
  },
  {
   "cell_type": "code",
   "execution_count": 4,
   "metadata": {},
   "outputs": [],
   "source": [
    "audioURL = uploadMyFile(\"Recording.mp3\")"
   ]
  },
  {
   "cell_type": "code",
   "execution_count": 5,
   "metadata": {},
   "outputs": [],
   "source": [
    "def startTranscription(aURL):\n",
    "    \n",
    "    response = requests.post(\n",
    "        transcriptURL,\n",
    "        headers = headers,\n",
    "        json = {\"audio_url\" : aURL}\n",
    "    )\n",
    "    \n",
    "    json = response.json()\n",
    "    \n",
    "    return json[\"id\"]"
   ]
  },
  {
   "cell_type": "code",
   "execution_count": 6,
   "metadata": {},
   "outputs": [],
   "source": [
    "transcriptionID = startTranscription(audioURL)"
   ]
  },
  {
   "cell_type": "code",
   "execution_count": 9,
   "metadata": {},
   "outputs": [],
   "source": [
    "def getTranscription(tId):\n",
    "    \n",
    "    maxAttempts = 10\n",
    "    timedout = False\n",
    "    \n",
    "    while True:\n",
    "        response = requests.get(\n",
    "            f\"{transcriptURL}/{tId}\",\n",
    "            headers = headers,  \n",
    "        )\n",
    "        \n",
    "        json = response.json()\n",
    "        \n",
    "        if json[\"status\"] == \"completed\":\n",
    "            break\n",
    "        \n",
    "        maxAttempts -= 1\n",
    "        timedout = maxAttempts <= 0\n",
    "        \n",
    "        if timedout:\n",
    "            break\n",
    "            \n",
    "        #Waiting 3 seconds before next try\n",
    "        time.sleep(3)\n",
    "        \n",
    "        return TimeoutError if timedout else \"completed\"\n"
   ]
  },
  {
   "cell_type": "code",
   "execution_count": 10,
   "metadata": {},
   "outputs": [],
   "source": [
    "getTranscription(transcriptionID)"
   ]
  },
  {
   "cell_type": "code",
   "execution_count": 7,
   "metadata": {},
   "outputs": [],
   "source": [
    "def wordSearch(tId, words : list):\n",
    "    words = \",\".join(words)\n",
    "    response = requests.get(\n",
    "            f\"{transcriptURL}/{tId}/word-search?words={words}\",\n",
    "            headers = headers,  \n",
    "        )\n",
    "        \n",
    "    json = response.json()\n",
    "    \n",
    "    return json[\"matches\"]"
   ]
  },
  {
   "cell_type": "code",
   "execution_count": 11,
   "metadata": {},
   "outputs": [],
   "source": [
    "matches = wordSearch(transcriptionID, [\"hello\", \"dog\"])"
   ]
  },
  {
   "cell_type": "code",
   "execution_count": 12,
   "metadata": {},
   "outputs": [
    {
     "name": "stdout",
     "output_type": "stream",
     "text": [
      "[{'text': 'hello', 'count': 2, 'timestamps': [[850, 1230], [4430, 5118]], 'indexes': [0, 4]}, {'text': 'dog', 'count': 1, 'timestamps': [[8210, 8960]], 'indexes': [7]}]\n"
     ]
    }
   ],
   "source": [
    "print(matches)"
   ]
  },
  {
   "cell_type": "code",
   "execution_count": 25,
   "metadata": {},
   "outputs": [
    {
     "name": "stdout",
     "output_type": "stream",
     "text": [
      "[{'text': 'hi', 'count': 2, 'timestamps': '2.75, 3.344'}, {'text': 'dog', 'count': 1, 'timestamps': '8.21'}]\n"
     ]
    }
   ],
   "source": [
    "lista = [{'text': 'hi', 'count': 2, 'timestamps': [[2750, 3258], [3344, 3980]], 'indexes': [2, 3]}, {'text': 'dog', 'count': 1, 'timestamps': [[8210, 8960]], 'indexes': [7]}]\n",
    "\n",
    "for item in lista:\n",
    "    timestamps = []\n",
    "    item.pop(\"indexes\")\n",
    "    for time in item[\"timestamps\"]:\n",
    "        timestamps.append(time[0]/1000)\n",
    "    item[\"timestamps\"] = \", \".join(str(stamp) for stamp in timestamps)\n",
    "    \n",
    "print(lista)"
   ]
  }
 ],
 "metadata": {
  "kernelspec": {
   "display_name": "Python 3.8.10 ('venv': venv)",
   "language": "python",
   "name": "python3"
  },
  "language_info": {
   "codemirror_mode": {
    "name": "ipython",
    "version": 3
   },
   "file_extension": ".py",
   "mimetype": "text/x-python",
   "name": "python",
   "nbconvert_exporter": "python",
   "pygments_lexer": "ipython3",
   "version": "3.8.10"
  },
  "orig_nbformat": 4,
  "vscode": {
   "interpreter": {
    "hash": "dcef07a22c16fbc8cc79cffa55f7654278128af89f2727d61abad58afb987093"
   }
  }
 },
 "nbformat": 4,
 "nbformat_minor": 2
}
